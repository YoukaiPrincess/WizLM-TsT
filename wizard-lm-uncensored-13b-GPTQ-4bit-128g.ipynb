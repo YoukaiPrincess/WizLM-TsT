{
  "cells": [
    {
      "cell_type": "markdown",
      "metadata": {
        "id": "view-in-github",
        "colab_type": "text"
      },
      "source": [
        "<a href=\"https://colab.research.google.com/github/YoukaiPrincess/WizLM-TsT/blob/testData/wizard-lm-uncensored-13b-GPTQ-4bit-128g.ipynb\" target=\"_parent\"><img src=\"https://colab.research.google.com/assets/colab-badge.svg\" alt=\"Open In Colab\"/></a>"
      ]
    },
    {
      "cell_type": "code",
      "execution_count": 3,
      "metadata": {
        "id": "VCFOzsQSHbjM",
        "outputId": "93bc1f3b-82f8-42ed-dbb1-5ffc381c76a6",
        "colab": {
          "base_uri": "https://localhost:8080/"
        }
      },
      "outputs": [
        {
          "output_type": "stream",
          "name": "stdout",
          "text": [
            "/content\n",
            "fatal: destination path 'text-generation-webui' already exists and is not an empty directory.\n",
            "/content/text-generation-webui\n",
            "\u001b[31mERROR: auto_gptq-0.4.2+cu117-cp310-cp310-linux_x86_64.whl is not a supported wheel on this platform.\u001b[0m\u001b[31m\n",
            "\u001b[0m\n",
            "Download Results:\n",
            "gid   |stat|avg speed  |path/URI\n",
            "======+====+===========+=======================================================\n",
            "cf293f|\u001b[1;32mOK\u001b[0m  |       0B/s|/content/text-generation-webui/models/WizardLM-13B-Uncensored-4bit-128g/config.json\n",
            "\n",
            "Status Legend:\n",
            "(OK):download completed.\n",
            "\n",
            "Download Results:\n",
            "gid   |stat|avg speed  |path/URI\n",
            "======+====+===========+=======================================================\n",
            "30af74|\u001b[1;32mOK\u001b[0m  |       0B/s|/content/text-generation-webui/models/WizardLM-13B-Uncensored-4bit-128g/generation_config.json\n",
            "\n",
            "Status Legend:\n",
            "(OK):download completed.\n",
            "\n",
            "Download Results:\n",
            "gid   |stat|avg speed  |path/URI\n",
            "======+====+===========+=======================================================\n",
            "6d6795|\u001b[1;32mOK\u001b[0m  |       0B/s|/content/text-generation-webui/models/WizardLM-13B-Uncensored-4bit-128g/special_tokens_map.json\n",
            "\n",
            "Status Legend:\n",
            "(OK):download completed.\n",
            "\n",
            "Download Results:\n",
            "gid   |stat|avg speed  |path/URI\n",
            "======+====+===========+=======================================================\n",
            "bd517f|\u001b[1;32mOK\u001b[0m  |       0B/s|/content/text-generation-webui/models/WizardLM-13B-Uncensored-4bit-128g/tokenizer.model\n",
            "\n",
            "Status Legend:\n",
            "(OK):download completed.\n",
            "\n",
            "Download Results:\n",
            "gid   |stat|avg speed  |path/URI\n",
            "======+====+===========+=======================================================\n",
            "5388dd|\u001b[1;32mOK\u001b[0m  |       0B/s|/content/text-generation-webui/models/WizardLM-13B-Uncensored-4bit-128g/tokenizer_config.json\n",
            "\n",
            "Status Legend:\n",
            "(OK):download completed.\n",
            "\n",
            "Download Results:\n",
            "gid   |stat|avg speed  |path/URI\n",
            "======+====+===========+=======================================================\n",
            "63f220|\u001b[1;32mOK\u001b[0m  |       0B/s|/content/text-generation-webui/models/WizardLM-13B-Uncensored-4bit-128g/4bit-128g.safetensors\n",
            "\n",
            "Status Legend:\n",
            "(OK):download completed.\n",
            "/content/text-generation-webui\n",
            "Traceback (most recent call last):\n",
            "  File \"/content/text-generation-webui/server.py\", line 12, in <module>\n",
            "    import gradio as gr\n",
            "ModuleNotFoundError: No module named 'gradio'\n"
          ]
        }
      ],
      "source": [
        "%cd /content\n",
        "!apt-get -y install -qq aria2\n",
        "\n",
        "!git clone -b v2.5 https://github.com/camenduru/text-generation-webui\n",
        "%cd /content/text-generation-webui\n",
        "!pip install -q -r requirements.txt\n",
        "\n",
        "!aria2c --console-log-level=error -c -x 16 -s 16 -k 1M https://huggingface.co/4bit/WizardLM-13B-Uncensored-4bit-128g/raw/main/config.json -d /content/text-generation-webui/models/WizardLM-13B-Uncensored-4bit-128g -o config.json\n",
        "!aria2c --console-log-level=error -c -x 16 -s 16 -k 1M https://huggingface.co/4bit/WizardLM-13B-Uncensored-4bit-128g/raw/main/generation_config.json -d /content/text-generation-webui/models/WizardLM-13B-Uncensored-4bit-128g -o generation_config.json\n",
        "!aria2c --console-log-level=error -c -x 16 -s 16 -k 1M https://huggingface.co/4bit/WizardLM-13B-Uncensored-4bit-128g/raw/main/special_tokens_map.json -d /content/text-generation-webui/models/WizardLM-13B-Uncensored-4bit-128g -o special_tokens_map.json\n",
        "!aria2c --console-log-level=error -c -x 16 -s 16 -k 1M https://huggingface.co/4bit/WizardLM-13B-Uncensored-4bit-128g/resolve/main/tokenizer.model -d /content/text-generation-webui/models/WizardLM-13B-Uncensored-4bit-128g -o tokenizer.model\n",
        "!aria2c --console-log-level=error -c -x 16 -s 16 -k 1M https://huggingface.co/4bit/WizardLM-13B-Uncensored-4bit-128g/raw/main/tokenizer_config.json -d /content/text-generation-webui/models/WizardLM-13B-Uncensored-4bit-128g -o tokenizer_config.json\n",
        "!aria2c --console-log-level=error -c -x 16 -s 16 -k 1M https://huggingface.co/4bit/WizardLM-13B-Uncensored-4bit-128g/resolve/main/4bit-128g.safetensors -d /content/text-generation-webui/models/WizardLM-13B-Uncensored-4bit-128g -o 4bit-128g.safetensors\n",
        "\n",
        "!echo \"dark_theme: true\" > /content/settings.yaml\n",
        "!echo \"chat_style: wpp\" >> /content/settings.yaml\n",
        "!echo \"mode: 'instruct'\" >> /content/settings.yaml\n",
        "!echo \"instruction_template: 'Wizard-Mega WizardLM'\" >> /content/settings.yaml\n",
        "\n",
        "%cd /content/text-generation-webui\n",
        "!python server.py --share --settings /content/settings.yaml --wbits 4 --groupsize 128 --loader AutoGPTQ --model /content/text-generation-webui/models/WizardLM-13B-Uncensored-4bit-128g"
      ]
    }
  ],
  "metadata": {
    "accelerator": "GPU",
    "colab": {
      "provenance": [],
      "include_colab_link": true
    },
    "gpuClass": "standard",
    "kernelspec": {
      "display_name": "Python 3",
      "name": "python3"
    },
    "language_info": {
      "name": "python"
    }
  },
  "nbformat": 4,
  "nbformat_minor": 0
}